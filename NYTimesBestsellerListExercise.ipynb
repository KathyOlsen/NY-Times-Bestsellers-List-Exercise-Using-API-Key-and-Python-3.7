{
 "cells": [
  {
   "cell_type": "markdown",
   "metadata": {},
   "source": [
    "# New York Times Bestsellers List Exercise - Katherine Olsen"
   ]
  },
  {
   "cell_type": "code",
   "execution_count": 1,
   "metadata": {
    "collapsed": true
   },
   "outputs": [],
   "source": [
    "import requests\n",
    "import json\n",
    "import time  \n",
    "import pandas as pd"
   ]
  },
  {
   "cell_type": "code",
   "execution_count": 2,
   "metadata": {
    "collapsed": true
   },
   "outputs": [],
   "source": [
    "with open('NYTimesKKOAPIKey.txt', 'r') as file:\n",
    "    for line in file:\n",
    "        api_key = line"
   ]
  },
  {
   "cell_type": "code",
   "execution_count": 3,
   "metadata": {
    "collapsed": true
   },
   "outputs": [],
   "source": [
    "url=r\"https://api.nytimes.com/svc/books/v3/lists/current/hardcover-fiction.json?api-key=\""
   ]
  },
  {
   "cell_type": "code",
   "execution_count": 4,
   "metadata": {
    "collapsed": true
   },
   "outputs": [],
   "source": [
    "response = requests.get(url+api_key)"
   ]
  },
  {
   "cell_type": "code",
   "execution_count": 5,
   "metadata": {},
   "outputs": [
    {
     "data": {
      "text/plain": [
       "<Response [200]>"
      ]
     },
     "execution_count": 5,
     "metadata": {},
     "output_type": "execute_result"
    }
   ],
   "source": [
    "response"
   ]
  },
  {
   "cell_type": "code",
   "execution_count": 6,
   "metadata": {},
   "outputs": [
    {
     "data": {
      "text/plain": [
       "'{\"status\":\"OK\",\"copyright\":\"Copyright (c) 2019 The New York Times Company.  All Rights Reserved.\",\"num_results\":15,\"last_modified\":\"2019-02-13T23:38:02-05:00\",\"results\":{\"list_name\":\"Hardcover Fiction\",\"list_name_encoded\":\"hardcover-fiction\",\"bestsellers_date\":\"2019-02-09\",\"published_date\":\"2019-02-24\",\"published_date_description\":\"latest\",\"next_published_date\":\"\",\"previous_published_date\":\"2019-02-17\",\"display_name\":\"Hardcover Fiction\",\"normal_list_ends_at\":15,\"updated\":\"WEEKLY\",\"books\":[{\"rank\":1,\"rank_last_week\":0,\"weeks_on_list\":1,\"asterisk\":0,\"dagger\":0,\"primary_isbn10\":\"1250301696\",\"primary_isbn13\":\"9781250301697\",\"publisher\":\"Celadon\",\"description\":\"Theo Faber looks into the mystery of a famous painter who stops speaking after shooting her husband.\",\"price\":0,\"title\":\"THE SILENT PATIENT\",\"author\":\"Alex Michaelides\",\"contributor\":\"by Alex Michaelides\",\"contributor_note\":\"\",\"book_image\":\"https:\\\\/\\\\/s1.nyt.com\\\\/du\\\\/books\\\\/images\\\\/9781250301697.jpg\",\"book_image_width\":326,\"book_image_height\":495,\"amazon_product_url\":\"https:\\\\/\\\\/www.amazon.com\\\\/Silent-Patient-Alex-Michaelides\\\\/dp\\\\/1250301696?tag=NYTBS-20\",\"age_group\":\"\",\"book_review_link\":\"\",\"first_chapter_link\":\"\",\"sunday_review_link\":\"\",\"article_chapter_link\":\"\",\"isbns\":[{\"isbn10\":\"1250301696\",\"isbn13\":\"9781250301697\"},{\"isbn10\":\"1250301718\",\"isbn13\":\"9781250301710\"}],\"buy_links\":[{\"name\":\"Local Booksellers\",\"url\":\"http:\\\\/\\\\/www.indiebound.org\\\\/book\\\\/9781250301697?aff=NYT\"},{\"name\":\"Barnes and Noble\",\"url\":\"http:\\\\/\\\\/www.anrdoezrs.net\\\\/click-7990613-11819508?url=http%3A%2F%2Fwww.barnesandnoble.com%2Fw%2F%3Fean%3D9781250301697\"},{\"name\":\"Amazon\",\"url\":\"https:\\\\/\\\\/www.amazon.com\\\\/Silent-Patient-Alex-Michaelides\\\\/dp\\\\/1250301696?tag=NYTBS-20\"}]},{\"rank\":2,\"rank_last_week\":1,\"weeks_on_list\":23,\"asterisk\":0,\"dagger\":0,\"primary_isbn10\":\"0735219095\",\"primary_isbn13\":\"9780735219090\",\"publisher\":\"Putnam\",\"description\":\"A woman who survived alone in the marsh becomes a murder suspect.\",\"price\":0,\"title\":\"WHERE THE CRAWDADS SING\",\"author\":\"Delia Owens\",\"contributor\":\"by Delia Owens\",\"contributor_note\":\"\",\"book_image\":\"https:\\\\/\\\\/s1.nyt.com\\\\/du\\\\/books\\\\/images\\\\/9780735219090.jpg\",\"book_image_width\":328,\"book_image_height\":495,\"amazon_product_url\":\"https:\\\\/\\\\/www.amazon.com\\\\/Where-Crawdads-Sing-Delia-Owens\\\\/dp\\\\/0735219095?tag=NYTBS-20\",\"age_group\":\"\",\"book_review_link\":\"\",\"first_chapter_link\":\"\",\"sunday_review_link\":\"\",\"article_chapter_link\":\"\",\"isbns\":[{\"isbn10\":\"0735219095\",\"isbn13\":\"9780735219090\"},{\"isbn10\":\"0735219117\",\"isbn13\":\"9780735219113\"},{\"isbn10\":\"0525640371\",\"isbn13\":\"9780525640370\"}],\"buy_links\":[{\"name\":\"Local Booksellers\",\"url\":\"http:\\\\/\\\\/www.indiebound.org\\\\/book\\\\/9780735219090?aff=NYT\"},{\"name\":\"Barnes and Noble\",\"url\":\"http:\\\\/\\\\/www.anrdoezrs.net\\\\/click-7990613-11819508?url=http%3A%2F%2Fwww.barnesandnoble.com%2Fw%2F%3Fean%3D9780735219090\"},{\"name\":\"Amazon\",\"url\":\"https:\\\\/\\\\/www.amazon.com\\\\/Where-Crawdads-Sing-Delia-Owens\\\\/dp\\\\/0735219095?tag=NYTBS-20\"}]},{\"rank\":3,\"rank_last_week\":0,\"weeks_on_list\":1,\"asterisk\":0,\"dagger\":0,\"primary_isbn10\":\"1250201578\",\"primary_isbn13\":\"9781250201577\",\"publisher\":\"St. Martin\\'s\",\"description\":\"Eve Dallas scours tattoo parlors and strip joints for clues to the cause of Lyle Pickering\\\\u2019s mysterious death.\",\"price\":0,\"title\":\"CONNECTIONS IN DEATH\",\"author\":\"JD Robb\",\"contributor\":\"by J.D. Robb\",\"contributor_note\":\"\",\"book_image\":\"https:\\\\/\\\\/s1.nyt.com\\\\/du\\\\/books\\\\/images\\\\/9781250201584.jpg\",\"book_image_width\":326,\"book_image_height\":495,\"amazon_product_url\":\"https:\\\\/\\\\/www.amazon.com\\\\/Connections-Death-Dallas-Novel-Book-ebook\\\\/dp\\\\/B07D2C2J66?tag=NYTBS-20\",\"age_group\":\"\",\"book_review_link\":\"\",\"first_chapter_link\":\"\",\"sunday_review_link\":\"\",\"article_chapter_link\":\"\",\"isbns\":[{\"isbn10\":\"1250201578\",\"isbn13\":\"9781250201577\"},{\"isbn10\":\"1250201586\",\"isbn13\":\"9781250201584\"}],\"buy_links\":[{\"name\":\"Local Booksellers\",\"url\":\"http:\\\\/\\\\/www.indiebound.org\\\\/book\\\\/9781250201577?aff=NYT\"},{\"name\":\"Barnes and Noble\",\"url\":\"http:\\\\/\\\\/www.anrdoezrs.net\\\\/click-7990613-11819508?url=http%3A%2F%2Fwww.barnesandnoble.com%2Fw%2F%3Fean%3D9781250201577\"},{\"name\":\"Amazon\",\"url\":\"https:\\\\/\\\\/www.amazon.com\\\\/Connections-Death-Dallas-Novel-Book-ebook\\\\/dp\\\\/B07D2C2J66?tag=NYTBS-20\"}]},{\"rank\":4,\"rank_last_week\":0,\"weeks_on_list\":1,\"asterisk\":0,\"dagger\":0,\"primary_isbn10\":\"0735220174\",\"primary_isbn13\":\"9780735220171\",\"publisher\":\"Riverhead\",\"description\":\"A loner named Tracker teams up with a group of unusual characters in search of a mysterious boy.\",\"price\":0,\"title\":\"BLACK LEOPARD, RED WOLF\",\"author\":\"Marlon James\",\"contributor\":\"by Marlon James\",\"contributor_note\":\"\",\"book_image\":\"https:\\\\/\\\\/s1.nyt.com\\\\/du\\\\/books\\\\/images\\\\/9780735220171.jpg\",\"book_image_width\":326,\"book_image_height\":495,\"amazon_product_url\":\"https:\\\\/\\\\/www.amazon.com\\\\/Black-Leopard-Wolf-Dark-Trilogy\\\\/dp\\\\/0735220174?tag=NYTBS-20\",\"age_group\":\"\",\"book_review_link\":\"https:\\\\/\\\\/www.nytimes.com\\\\/2019\\\\/01\\\\/31\\\\/books\\\\/review\\\\/black-leopard-red-wolf-marlon-james.html\",\"first_chapter_link\":\"\",\"sunday_review_link\":\"\",\"article_chapter_link\":\"\",\"isbns\":[{\"isbn10\":\"0735220174\",\"isbn13\":\"9780735220171\"},{\"isbn10\":\"0735220190\",\"isbn13\":\"9780735220195\"}],\"buy_links\":[{\"name\":\"Local Booksellers\",\"url\":\"http:\\\\/\\\\/www.indiebound.org\\\\/book\\\\/9780735220171?aff=NYT\"},{\"name\":\"Barnes and Noble\",\"url\":\"http:\\\\/\\\\/www.anrdoezrs.net\\\\/click-7990613-11819508?url=http%3A%2F%2Fwww.barnesandnoble.com%2Fw%2F%3Fean%3D9780735220171\"},{\"name\":\"Amazon\",\"url\":\"https:\\\\/\\\\/www.amazon.com\\\\/Black-Leopard-Wolf-Dark-Trilogy\\\\/dp\\\\/0735220174?tag=NYTBS-20\"}]},{\"rank\":5,\"rank_last_week\":10,\"weeks_on_list\":2,\"asterisk\":0,\"dagger\":0,\"primary_isbn10\":\"0399563245\",\"primary_isbn13\":\"9780399563249\",\"publisher\":\"Penguin Press\",\"description\":\"A collection of more than 200 poems spanning 50 years of the author\\\\u2019s career.\",\"price\":0,\"title\":\"DEVOTIONS\",\"author\":\"Mary Oliver\",\"contributor\":\"by Mary Oliver\",\"contributor_note\":\"\",\"book_image\":\"https:\\\\/\\\\/s1.nyt.com\\\\/du\\\\/books\\\\/images\\\\/9780399563249.jpg\",\"book_image_width\":326,\"book_image_height\":495,\"amazon_product_url\":\"https:\\\\/\\\\/www.amazon.com\\\\/Devotions-Selected-Poems-Mary-Oliver\\\\/dp\\\\/0399563245?tag=NYTBS-20\",\"age_group\":\"\",\"book_review_link\":\"\",\"first_chapter_link\":\"\",\"sunday_review_link\":\"\",\"article_chapter_link\":\"\",\"isbns\":[{\"isbn10\":\"0399563245\",\"isbn13\":\"9780399563249\"}],\"buy_links\":[{\"name\":\"Local Booksellers\",\"url\":\"http:\\\\/\\\\/www.indiebound.org\\\\/book\\\\/9780399563249?aff=NYT\"},{\"name\":\"Barnes and Noble\",\"url\":\"http:\\\\/\\\\/www.anrdoezrs.net\\\\/click-7990613-11819508?url=http%3A%2F%2Fwww.barnesandnoble.com%2Fw%2F%3Fean%3D9780399563249\"},{\"name\":\"Amazon\",\"url\":\"https:\\\\/\\\\/www.amazon.com\\\\/Devotions-Selected-Poems-Mary-Oliver\\\\/dp\\\\/0399563245?tag=NYTBS-20\"}]},{\"rank\":6,\"rank_last_week\":2,\"weeks_on_list\":5,\"asterisk\":0,\"dagger\":0,\"primary_isbn10\":\"None\",\"primary_isbn13\":\"9781250314208\",\"publisher\":\"St. Martin\\'s\",\"description\":\"Jessica Farris\\\\u2019s life unravels when she signs up for Dr. Shields\\\\u2019s psychology study.\",\"price\":0,\"title\":\"AN ANONYMOUS GIRL\",\"author\":\"Greer Hendricks and Sarah Pekkanen\",\"contributor\":\"by Greer Hendricks and Sarah Pekkanen\",\"contributor_note\":\"\",\"book_image\":\"https:\\\\/\\\\/s1.nyt.com\\\\/du\\\\/books\\\\/images\\\\/9781250133731.jpg\",\"book_image_width\":326,\"book_image_height\":495,\"amazon_product_url\":\"https:\\\\/\\\\/www.amazon.com\\\\/Girl-Greer-Hendricks\\\\/dp\\\\/1250133734?tag=NYTBS-20\",\"age_group\":\"\",\"book_review_link\":\"\",\"first_chapter_link\":\"\",\"sunday_review_link\":\"\",\"article_chapter_link\":\"\",\"isbns\":[{\"isbn10\":\"1250133734\",\"isbn13\":\"9781250133731\"},{\"isbn10\":\"1250133742\",\"isbn13\":\"9781250133748\"}],\"buy_links\":[{\"name\":\"Local Booksellers\",\"url\":\"http:\\\\/\\\\/www.indiebound.org\\\\/book\\\\/9781250314208?aff=NYT\"},{\"name\":\"Barnes and Noble\",\"url\":\"http:\\\\/\\\\/www.anrdoezrs.net\\\\/click-7990613-11819508?url=http%3A%2F%2Fwww.barnesandnoble.com%2Fw%2F%3Fean%3D9781250314208\"},{\"name\":\"Amazon\",\"url\":\"https:\\\\/\\\\/www.amazon.com\\\\/Girl-Greer-Hendricks\\\\/dp\\\\/1250133734?tag=NYTBS-20\"}]},{\"rank\":7,\"rank_last_week\":0,\"weeks_on_list\":1,\"asterisk\":0,\"dagger\":0,\"primary_isbn10\":\"052561849X\",\"primary_isbn13\":\"9780525618492\",\"publisher\":\"Ballantine\",\"description\":\"Milo Sturgis and Alex Delaware investigate the death of a stranger at a wedding reception.\",\"price\":0,\"title\":\"THE WEDDING GUEST\",\"author\":\"Jonathan Kellerman\",\"contributor\":\"by Jonathan Kellerman\",\"contributor_note\":\"\",\"book_image\":\"https:\\\\/\\\\/s1.nyt.com\\\\/du\\\\/books\\\\/images\\\\/9780525618508.jpg\",\"book_image_width\":326,\"book_image_height\":495,\"amazon_product_url\":\"https:\\\\/\\\\/www.amazon.com\\\\/Wedding-Guest-Alex-Delaware-Novel-ebook\\\\/dp\\\\/B07CWF85NK?tag=NYTBS-20\",\"age_group\":\"\",\"book_review_link\":\"\",\"first_chapter_link\":\"\",\"sunday_review_link\":\"\",\"article_chapter_link\":\"\",\"isbns\":[{\"isbn10\":\"052561849X\",\"isbn13\":\"9780525618492\"},{\"isbn10\":\"0525618503\",\"isbn13\":\"9780525618508\"}],\"buy_links\":[{\"name\":\"Local Booksellers\",\"url\":\"http:\\\\/\\\\/www.indiebound.org\\\\/book\\\\/9780525618492?aff=NYT\"},{\"name\":\"Barnes and Noble\",\"url\":\"http:\\\\/\\\\/www.anrdoezrs.net\\\\/click-7990613-11819508?url=http%3A%2F%2Fwww.barnesandnoble.com%2Fw%2F%3Fean%3D9780525618492\"},{\"name\":\"Amazon\",\"url\":\"https:\\\\/\\\\/www.amazon.com\\\\/Wedding-Guest-Alex-Delaware-Novel-ebook\\\\/dp\\\\/B07CWF85NK?tag=NYTBS-20\"}]},{\"rank\":8,\"rank_last_week\":3,\"weeks_on_list\":16,\"asterisk\":0,\"dagger\":0,\"primary_isbn10\":\"0385544154\",\"primary_isbn13\":\"9780385544153\",\"publisher\":\"Doubleday\",\"description\":\"A decorated World War II veteran shoots and kills a pastor.\",\"price\":0,\"title\":\"THE RECKONING\",\"author\":\"John Grisham\",\"contributor\":\"by John Grisham\",\"contributor_note\":\"\",\"book_image\":\"https:\\\\/\\\\/s1.nyt.com\\\\/du\\\\/books\\\\/images\\\\/9780385544160.jpg\",\"book_image_width\":326,\"book_image_height\":495,\"amazon_product_url\":\"https:\\\\/\\\\/www.amazon.com\\\\/Reckoning-Novel-John-Grisham-ebook\\\\/dp\\\\/B079DBS447?tag=NYTBS-20\",\"age_group\":\"\",\"book_review_link\":\"\",\"first_chapter_link\":\"\",\"sunday_review_link\":\"\",\"article_chapter_link\":\"\",\"isbns\":[{\"isbn10\":\"0385544154\",\"isbn13\":\"9780385544153\"},{\"isbn10\":\"0385544162\",\"isbn13\":\"9780385544160\"},{\"isbn10\":\"052563925X\",\"isbn13\":\"9780525639251\"},{\"isbn10\":\"0525639292\",\"isbn13\":\"9780525639299\"},{\"isbn10\":\"0385544170\",\"isbn13\":\"9780385544177\"}],\"buy_links\":[{\"name\":\"Local Booksellers\",\"url\":\"http:\\\\/\\\\/www.indiebound.org\\\\/book\\\\/9780385544153?aff=NYT\"},{\"name\":\"Barnes and Noble\",\"url\":\"http:\\\\/\\\\/www.anrdoezrs.net\\\\/click-7990613-11819508?url=http%3A%2F%2Fwww.barnesandnoble.com%2Fw%2F%3Fean%3D9780385544153\"},{\"name\":\"Amazon\",\"url\":\"https:\\\\/\\\\/www.amazon.com\\\\/Reckoning-Novel-John-Grisham-ebook\\\\/dp\\\\/B079DBS447?tag=NYTBS-20\"}]},{\"rank\":9,\"rank_last_week\":6,\"weeks_on_list\":12,\"asterisk\":0,\"dagger\":0,\"primary_isbn10\":\"152479628X\",\"primary_isbn13\":\"9781524796280\",\"publisher\":\"Bantam\",\"description\":\"The first volume of the two-part history of the Targaryens in Westeros.\",\"price\":0,\"title\":\"FIRE AND BLOOD\",\"author\":\"George RR Martin\",\"contributor\":\"by George R.R. Martin\",\"contributor_note\":\"\",\"book_image\":\"https:\\\\/\\\\/s1.nyt.com\\\\/du\\\\/books\\\\/images\\\\/9781524796280.jpg\",\"book_image_width\":326,\"book_image_height\":495,\"amazon_product_url\":\"https:\\\\/\\\\/www.amazon.com\\\\/Fire-Blood-Thrones-Targaryen-History\\\\/dp\\\\/152479628X?tag=NYTBS-20\",\"age_group\":\"\",\"book_review_link\":\"\",\"first_chapter_link\":\"\",\"sunday_review_link\":\"\",\"article_chapter_link\":\"\",\"isbns\":[{\"isbn10\":\"152479628X\",\"isbn13\":\"9781524796280\"},{\"isbn10\":\"1524796298\",\"isbn13\":\"9781524796297\"},{\"isbn10\":\"1984838695\",\"isbn13\":\"9781984838698\"}],\"buy_links\":[{\"name\":\"Local Booksellers\",\"url\":\"http:\\\\/\\\\/www.indiebound.org\\\\/book\\\\/9781524796280?aff=NYT\"},{\"name\":\"Barnes and Noble\",\"url\":\"http:\\\\/\\\\/www.anrdoezrs.net\\\\/click-7990613-11819508?url=http%3A%2F%2Fwww.barnesandnoble.com%2Fw%2F%3Fean%3D9781524796280\"},{\"name\":\"Amazon\",\"url\":\"https:\\\\/\\\\/www.amazon.com\\\\/Fire-Blood-Thrones-Targaryen-History\\\\/dp\\\\/152479628X?tag=NYTBS-20\"}]},{\"rank\":10,\"rank_last_week\":4,\"weeks_on_list\":4,\"asterisk\":0,\"dagger\":0,\"primary_isbn10\":\"0316418242\",\"primary_isbn13\":\"9780316418249\",\"publisher\":\"Little, Brown\",\"description\":\"Detective Harriet Blue has become a dangerous fugitive from the law as she pursues the murderer Regan Banks.\",\"price\":0,\"title\":\"LIAR LIAR\",\"author\":\"James Patterson and Candice Fox\",\"contributor\":\"by James Patterson and Candice Fox\",\"contributor_note\":\"\",\"book_image\":\"https:\\\\/\\\\/s1.nyt.com\\\\/du\\\\/books\\\\/images\\\\/9780316418256.jpg\",\"book_image_width\":320,\"book_image_height\":495,\"amazon_product_url\":\"https:\\\\/\\\\/www.amazon.com\\\\/Liar-Harriet-Blue-Book-ebook\\\\/dp\\\\/B07CWQFM6K?tag=NYTBS-20\",\"age_group\":\"\",\"book_review_link\":\"\",\"first_chapter_link\":\"\",\"sunday_review_link\":\"\",\"article_chapter_link\":\"\",\"isbns\":[{\"isbn10\":\"0316418242\",\"isbn13\":\"9780316418249\"},{\"isbn10\":\"0316418250\",\"isbn13\":\"9780316418256\"},{\"isbn10\":\"031641834X\",\"isbn13\":\"9780316418348\"}],\"buy_links\":[{\"name\":\"Local Booksellers\",\"url\":\"http:\\\\/\\\\/www.indiebound.org\\\\/book\\\\/9780316418249?aff=NYT\"},{\"name\":\"Barnes and Noble\",\"url\":\"http:\\\\/\\\\/www.anrdoezrs.net\\\\/click-7990613-11819508?url=http%3A%2F%2Fwww.barnesandnoble.com%2Fw%2F%3Fean%3D9780316418249\"},{\"name\":\"Amazon\",\"url\":\"https:\\\\/\\\\/www.amazon.com\\\\/Liar-Harriet-Blue-Book-ebook\\\\/dp\\\\/B07CWQFM6K?tag=NYTBS-20\"}]},{\"rank\":11,\"rank_last_week\":0,\"weeks_on_list\":1,\"asterisk\":0,\"dagger\":0,\"primary_isbn10\":\"1984817434\",\"primary_isbn13\":\"9781984817433\",\"publisher\":\"Del Rey\",\"description\":\"Terry Ives signs up to be a test subject of a government experiment to get to the bottom of a conspiracy.\",\"price\":0,\"title\":\"STRANGER THINGS: SUSPICIOUS MINDS\",\"author\":\"Gwenda Bond\",\"contributor\":\"by Gwenda Bond\",\"contributor_note\":\"\",\"book_image\":\"https:\\\\/\\\\/s1.nyt.com\\\\/du\\\\/books\\\\/images\\\\/9781984817433.jpg\",\"book_image_width\":328,\"book_image_height\":495,\"amazon_product_url\":\"https:\\\\/\\\\/www.amazon.com\\\\/Stranger-Things-Suspicious-Minds-official\\\\/dp\\\\/1984817434?tag=NYTBS-20\",\"age_group\":\"\",\"book_review_link\":\"\",\"first_chapter_link\":\"\",\"sunday_review_link\":\"\",\"article_chapter_link\":\"\",\"isbns\":[{\"isbn10\":\"1984817434\",\"isbn13\":\"9781984817433\"}],\"buy_links\":[{\"name\":\"Local Booksellers\",\"url\":\"http:\\\\/\\\\/www.indiebound.org\\\\/book\\\\/9781984817433?aff=NYT\"},{\"name\":\"Barnes and Noble\",\"url\":\"http:\\\\/\\\\/www.anrdoezrs.net\\\\/click-7990613-11819508?url=http%3A%2F%2Fwww.barnesandnoble.com%2Fw%2F%3Fean%3D9781984817433\"},{\"name\":\"Amazon\",\"url\":\"https:\\\\/\\\\/www.amazon.com\\\\/Stranger-Things-Suspicious-Minds-official\\\\/dp\\\\/1984817434?tag=NYTBS-20\"}]},{\"rank\":12,\"rank_last_week\":0,\"weeks_on_list\":1,\"asterisk\":0,\"dagger\":0,\"primary_isbn10\":\"0062358200\",\"primary_isbn13\":\"9780062358202\",\"publisher\":\"Morrow\",\"description\":\"A family crisis tests the bonds and ideals of a renowned poet and her siblings.\",\"price\":0,\"title\":\"THE LAST ROMANTICS\",\"author\":\"Tara Conklin\",\"contributor\":\"by Tara Conklin\",\"contributor_note\":\"\",\"book_image\":\"https:\\\\/\\\\/s1.nyt.com\\\\/du\\\\/books\\\\/images\\\\/9780062358202.jpg\",\"book_image_width\":328,\"book_image_height\":495,\"amazon_product_url\":\"https:\\\\/\\\\/www.amazon.com\\\\/Last-Romantics-Novel-Tara-Conklin\\\\/dp\\\\/0062358200?tag=NYTBS-20\",\"age_group\":\"\",\"book_review_link\":\"\",\"first_chapter_link\":\"\",\"sunday_review_link\":\"\",\"article_chapter_link\":\"\",\"isbns\":[{\"isbn10\":\"0062358200\",\"isbn13\":\"9780062358202\"}],\"buy_links\":[{\"name\":\"Local Booksellers\",\"url\":\"http:\\\\/\\\\/www.indiebound.org\\\\/book\\\\/9780062358202?aff=NYT\"},{\"name\":\"Barnes and Noble\",\"url\":\"http:\\\\/\\\\/www.anrdoezrs.net\\\\/click-7990613-11819508?url=http%3A%2F%2Fwww.barnesandnoble.com%2Fw%2F%3Fean%3D9780062358202\"},{\"name\":\"Amazon\",\"url\":\"https:\\\\/\\\\/www.amazon.com\\\\/Last-Romantics-Novel-Tara-Conklin\\\\/dp\\\\/0062358200?tag=NYTBS-20\"}]},{\"rank\":13,\"rank_last_week\":0,\"weeks_on_list\":1,\"asterisk\":0,\"dagger\":0,\"primary_isbn10\":\"1250105684\",\"primary_isbn13\":\"9781250105684\",\"publisher\":\"Flatiron\",\"description\":\"Nathan and Bub Bright find their other brother dead at the border of their cattle ranches in the Australian outback.\",\"price\":0,\"title\":\"THE LOST MAN\",\"author\":\"Jane Harper\",\"contributor\":\"by Jane Harper\",\"contributor_note\":\"\",\"book_image\":\"https:\\\\/\\\\/s1.nyt.com\\\\/du\\\\/books\\\\/images\\\\/9781250105691.jpg\",\"book_image_width\":326,\"book_image_height\":495,\"amazon_product_url\":\"https:\\\\/\\\\/www.amazon.com\\\\/Lost-Man-Jane-Harper-ebook\\\\/dp\\\\/B07FM4HQ9N?tag=NYTBS-20\",\"age_group\":\"\",\"book_review_link\":\"\",\"first_chapter_link\":\"\",\"sunday_review_link\":\"\",\"article_chapter_link\":\"\",\"isbns\":[{\"isbn10\":\"1250105684\",\"isbn13\":\"9781250105684\"},{\"isbn10\":\"1250105692\",\"isbn13\":\"9781250105691\"}],\"buy_links\":[{\"name\":\"Local Booksellers\",\"url\":\"http:\\\\/\\\\/www.indiebound.org\\\\/book\\\\/9781250105684?aff=NYT\"},{\"name\":\"Barnes and Noble\",\"url\":\"http:\\\\/\\\\/www.anrdoezrs.net\\\\/click-7990613-11819508?url=http%3A%2F%2Fwww.barnesandnoble.com%2Fw%2F%3Fean%3D9781250105684\"},{\"name\":\"Amazon\",\"url\":\"https:\\\\/\\\\/www.amazon.com\\\\/Lost-Man-Jane-Harper-ebook\\\\/dp\\\\/B07FM4HQ9N?tag=NYTBS-20\"}]},{\"rank\":14,\"rank_last_week\":7,\"weeks_on_list\":10,\"asterisk\":0,\"dagger\":0,\"primary_isbn10\":\"0316556343\",\"primary_isbn13\":\"9780316556347\",\"publisher\":\"Little, Brown\",\"description\":\"Zeus banishes Helios\\' daughter to an island, where she must choose between living with gods or mortals.\",\"price\":0,\"title\":\"CIRCE\",\"author\":\"Madeline Miller\",\"contributor\":\"by Madeline Miller\",\"contributor_note\":\"\",\"book_image\":\"https:\\\\/\\\\/s1.nyt.com\\\\/du\\\\/books\\\\/images\\\\/9780316556347.jpg\",\"book_image_width\":319,\"book_image_height\":495,\"amazon_product_url\":\"https:\\\\/\\\\/www.amazon.com\\\\/Circe-Madeline-Miller\\\\/dp\\\\/0316556343?tag=NYTBS-20\",\"age_group\":\"\",\"book_review_link\":\"https:\\\\/\\\\/www.nytimes.com\\\\/2018\\\\/05\\\\/28\\\\/books\\\\/review\\\\/circe-madeline-miller.html\",\"first_chapter_link\":\"\",\"sunday_review_link\":\"\",\"article_chapter_link\":\"\",\"isbns\":[{\"isbn10\":\"0316556343\",\"isbn13\":\"9780316556347\"},{\"isbn10\":\"0316556335\",\"isbn13\":\"9780316556330\"},{\"isbn10\":\"1478975318\",\"isbn13\":\"9781478975311\"},{\"isbn10\":\"1549171763\",\"isbn13\":\"9781549171765\"},{\"isbn10\":\"1549142380\",\"isbn13\":\"9781549142383\"},{\"isbn10\":\"0316556327\",\"isbn13\":\"9780316556323\"}],\"buy_links\":[{\"name\":\"Local Booksellers\",\"url\":\"http:\\\\/\\\\/www.indiebound.org\\\\/book\\\\/9780316556347?aff=NYT\"},{\"name\":\"Barnes and Noble\",\"url\":\"http:\\\\/\\\\/www.anrdoezrs.net\\\\/click-7990613-11819508?url=http%3A%2F%2Fwww.barnesandnoble.com%2Fw%2F%3Fean%3D9780316556347\"},{\"name\":\"Amazon\",\"url\":\"https:\\\\/\\\\/www.amazon.com\\\\/Circe-Madeline-Miller\\\\/dp\\\\/0316556343?tag=NYTBS-20\"}]},{\"rank\":15,\"rank_last_week\":0,\"weeks_on_list\":1,\"asterisk\":0,\"dagger\":0,\"primary_isbn10\":\"1524799017\",\"primary_isbn13\":\"9781524799014\",\"publisher\":\"The Dial Press\",\"description\":\"A series of debts between Fixie Farr and a handsome stranger involves her childhood crush.\",\"price\":0,\"title\":\"I OWE YOU ONE\",\"author\":\"Sophie Kinsella\",\"contributor\":\"by Sophie Kinsella\",\"contributor_note\":\"\",\"book_image\":\"https:\\\\/\\\\/s1.nyt.com\\\\/du\\\\/books\\\\/images\\\\/9781524799021.jpg\",\"book_image_width\":328,\"book_image_height\":495,\"amazon_product_url\":\"https:\\\\/\\\\/www.amazon.com\\\\/I-Owe-You-One-Novel-ebook\\\\/dp\\\\/B07DZKDJ2K?tag=NYTBS-20\",\"age_group\":\"\",\"book_review_link\":\"\",\"first_chapter_link\":\"\",\"sunday_review_link\":\"\",\"article_chapter_link\":\"\",\"isbns\":[{\"isbn10\":\"1524799017\",\"isbn13\":\"9781524799014\"},{\"isbn10\":\"1524799025\",\"isbn13\":\"9781524799021\"}],\"buy_links\":[{\"name\":\"Local Booksellers\",\"url\":\"http:\\\\/\\\\/www.indiebound.org\\\\/book\\\\/9781524799014?aff=NYT\"},{\"name\":\"Barnes and Noble\",\"url\":\"http:\\\\/\\\\/www.anrdoezrs.net\\\\/click-7990613-11819508?url=http%3A%2F%2Fwww.barnesandnoble.com%2Fw%2F%3Fean%3D9781524799014\"},{\"name\":\"Amazon\",\"url\":\"https:\\\\/\\\\/www.amazon.com\\\\/I-Owe-You-One-Novel-ebook\\\\/dp\\\\/B07DZKDJ2K?tag=NYTBS-20\"}]}],\"corrections\":[]}}'"
      ]
     },
     "execution_count": 6,
     "metadata": {},
     "output_type": "execute_result"
    }
   ],
   "source": [
    "response.text"
   ]
  },
  {
   "cell_type": "code",
   "execution_count": 7,
   "metadata": {
    "collapsed": true
   },
   "outputs": [],
   "source": [
    "str_NYTimes = response.text"
   ]
  },
  {
   "cell_type": "code",
   "execution_count": 8,
   "metadata": {
    "collapsed": true
   },
   "outputs": [],
   "source": [
    "NYTimesdata = json.loads(str_NYTimes)"
   ]
  },
  {
   "cell_type": "code",
   "execution_count": 9,
   "metadata": {},
   "outputs": [
    {
     "data": {
      "text/plain": [
       "dict"
      ]
     },
     "execution_count": 9,
     "metadata": {},
     "output_type": "execute_result"
    }
   ],
   "source": [
    "type(NYTimesdata)"
   ]
  },
  {
   "cell_type": "code",
   "execution_count": 10,
   "metadata": {},
   "outputs": [
    {
     "data": {
      "text/plain": [
       "dict_keys(['status', 'copyright', 'num_results', 'last_modified', 'results'])"
      ]
     },
     "execution_count": 10,
     "metadata": {},
     "output_type": "execute_result"
    }
   ],
   "source": [
    "NYTimesdata.keys()"
   ]
  },
  {
   "cell_type": "code",
   "execution_count": 11,
   "metadata": {},
   "outputs": [
    {
     "data": {
      "text/plain": [
       "dict"
      ]
     },
     "execution_count": 11,
     "metadata": {},
     "output_type": "execute_result"
    }
   ],
   "source": [
    "type(NYTimesdata['results'])"
   ]
  },
  {
   "cell_type": "code",
   "execution_count": 12,
   "metadata": {},
   "outputs": [
    {
     "data": {
      "text/plain": [
       "dict_keys(['list_name', 'list_name_encoded', 'bestsellers_date', 'published_date', 'published_date_description', 'next_published_date', 'previous_published_date', 'display_name', 'normal_list_ends_at', 'updated', 'books', 'corrections'])"
      ]
     },
     "execution_count": 12,
     "metadata": {},
     "output_type": "execute_result"
    }
   ],
   "source": [
    "NYTimesdata['results'].keys()"
   ]
  },
  {
   "cell_type": "code",
   "execution_count": 13,
   "metadata": {},
   "outputs": [
    {
     "data": {
      "text/plain": [
       "list"
      ]
     },
     "execution_count": 13,
     "metadata": {},
     "output_type": "execute_result"
    }
   ],
   "source": [
    "type(NYTimesdata['results']['books'])"
   ]
  },
  {
   "cell_type": "code",
   "execution_count": 14,
   "metadata": {},
   "outputs": [
    {
     "data": {
      "text/plain": [
       "{'age_group': '',\n",
       " 'amazon_product_url': 'https://www.amazon.com/Silent-Patient-Alex-Michaelides/dp/1250301696?tag=NYTBS-20',\n",
       " 'article_chapter_link': '',\n",
       " 'asterisk': 0,\n",
       " 'author': 'Alex Michaelides',\n",
       " 'book_image': 'https://s1.nyt.com/du/books/images/9781250301697.jpg',\n",
       " 'book_image_height': 495,\n",
       " 'book_image_width': 326,\n",
       " 'book_review_link': '',\n",
       " 'buy_links': [{'name': 'Local Booksellers',\n",
       "   'url': 'http://www.indiebound.org/book/9781250301697?aff=NYT'},\n",
       "  {'name': 'Barnes and Noble',\n",
       "   'url': 'http://www.anrdoezrs.net/click-7990613-11819508?url=http%3A%2F%2Fwww.barnesandnoble.com%2Fw%2F%3Fean%3D9781250301697'},\n",
       "  {'name': 'Amazon',\n",
       "   'url': 'https://www.amazon.com/Silent-Patient-Alex-Michaelides/dp/1250301696?tag=NYTBS-20'}],\n",
       " 'contributor': 'by Alex Michaelides',\n",
       " 'contributor_note': '',\n",
       " 'dagger': 0,\n",
       " 'description': 'Theo Faber looks into the mystery of a famous painter who stops speaking after shooting her husband.',\n",
       " 'first_chapter_link': '',\n",
       " 'isbns': [{'isbn10': '1250301696', 'isbn13': '9781250301697'},\n",
       "  {'isbn10': '1250301718', 'isbn13': '9781250301710'}],\n",
       " 'price': 0,\n",
       " 'primary_isbn10': '1250301696',\n",
       " 'primary_isbn13': '9781250301697',\n",
       " 'publisher': 'Celadon',\n",
       " 'rank': 1,\n",
       " 'rank_last_week': 0,\n",
       " 'sunday_review_link': '',\n",
       " 'title': 'THE SILENT PATIENT',\n",
       " 'weeks_on_list': 1}"
      ]
     },
     "execution_count": 14,
     "metadata": {},
     "output_type": "execute_result"
    }
   ],
   "source": [
    "NYTimesdata['results']['books'][0]"
   ]
  },
  {
   "cell_type": "code",
   "execution_count": 15,
   "metadata": {},
   "outputs": [
    {
     "data": {
      "text/plain": [
       "list"
      ]
     },
     "execution_count": 15,
     "metadata": {},
     "output_type": "execute_result"
    }
   ],
   "source": [
    "NYT = NYTimesdata['results']['books']\n",
    "type(NYT)"
   ]
  },
  {
   "cell_type": "code",
   "execution_count": 16,
   "metadata": {
    "collapsed": true
   },
   "outputs": [],
   "source": [
    "isbn10ls=[]\n",
    "isbn13ls=[]\n",
    "titlels=[]\n",
    "authorls=[]\n",
    "rankls=[]\n",
    "lastwkrankls=[]\n",
    "wksonlistls=[]\n",
    "pricels=[]\n",
    "descripls=[]\n",
    "publishls=[]\n",
    "bkimagels=[]"
   ]
  },
  {
   "cell_type": "code",
   "execution_count": 17,
   "metadata": {
    "collapsed": true
   },
   "outputs": [],
   "source": [
    "for book in NYT:\n",
    "    try: isbn10 = book['primary_isbn10']\n",
    "    except: isbn10 = None\n",
    "            \n",
    "    try: isbn13 = book['primary_isbn13']\n",
    "    except: isbn13 = None\n",
    "            \n",
    "    try: title = book['title']\n",
    "    except: title = None\n",
    "            \n",
    "    try: author = book['author']\n",
    "    except: author = None\n",
    "                \n",
    "    try: rank = book['rank']\n",
    "    except: rank = None\n",
    "            \n",
    "    try: lastwkrank = book['rank_last_week']\n",
    "    except: lastwkrank = None\n",
    "            \n",
    "    try: wksonlist = book['weeks_on_list']\n",
    "    except: wksonlist = None\n",
    "            \n",
    "    try: price = book['price']\n",
    "    except: price = None\n",
    "            \n",
    "    try: descrip = book['description']\n",
    "    except: descrip = None\n",
    "            \n",
    "    try: publish = book['publisher']\n",
    "    except: publish = None\n",
    "            \n",
    "    try: bkimage = book['book_image']\n",
    "    except: bkimage = None\n",
    "            \n",
    "    isbn10ls.append(isbn10)\n",
    "    isbn13ls.append(isbn13)\n",
    "    titlels.append(title)\n",
    "    authorls.append(author)\n",
    "    rankls.append(rank)\n",
    "    lastwkrankls.append(lastwkrank)\n",
    "    wksonlistls.append(wksonlist)\n",
    "    pricels.append(price)\n",
    "    descripls.append(descrip)\n",
    "    publishls.append(publish)\n",
    "    bkimagels.append(bkimage)\n",
    "        "
   ]
  },
  {
   "cell_type": "code",
   "execution_count": 18,
   "metadata": {},
   "outputs": [
    {
     "name": "stdout",
     "output_type": "stream",
     "text": [
      "['1250301696', '0735219095', '1250201578', '0735220174', '0399563245']\n",
      "['9781250301697', '9780735219090', '9781250201577', '9780735220171', '9780399563249']\n",
      "['THE SILENT PATIENT', 'WHERE THE CRAWDADS SING', 'CONNECTIONS IN DEATH', 'BLACK LEOPARD, RED WOLF', 'DEVOTIONS']\n",
      "[1, 23, 1, 1, 2]\n",
      "[0, 0, 0, 0, 0]\n"
     ]
    }
   ],
   "source": [
    "print(isbn10ls[:5])\n",
    "print(isbn13ls[:5])\n",
    "print(titlels[:5]) \n",
    "print(wksonlistls[:5])\n",
    "print(pricels[:5])"
   ]
  },
  {
   "cell_type": "code",
   "execution_count": 19,
   "metadata": {},
   "outputs": [
    {
     "name": "stdout",
     "output_type": "stream",
     "text": [
      "15\n",
      "15\n",
      "15\n",
      "15\n",
      "15\n",
      "15\n",
      "15\n",
      "15\n",
      "15\n",
      "15\n",
      "15\n"
     ]
    }
   ],
   "source": [
    "print(len(isbn10ls))\n",
    "print(len(isbn13ls))\n",
    "print(len(titlels))\n",
    "print(len(authorls))\n",
    "print(len(rankls))\n",
    "print(len(lastwkrankls))\n",
    "print(len(wksonlistls))\n",
    "print(len(pricels))\n",
    "print(len(descripls))\n",
    "print(len(publishls))\n",
    "print(len(bkimagels))"
   ]
  },
  {
   "cell_type": "code",
   "execution_count": 20,
   "metadata": {
    "collapsed": true
   },
   "outputs": [],
   "source": [
    "NYTlist = list(zip(isbn10ls,isbn13ls,titlels,authorls,rankls,lastwkrankls,wksonlistls,pricels,descripls,publishls,bkimagels))\n",
    "\n",
    "colnames = ['Primary ISBN10','Primary ISBN13','Title','Author','Rank','Rank Last Week','Weeks on List','Price','Description','Publisher','Book Image']"
   ]
  },
  {
   "cell_type": "code",
   "execution_count": 22,
   "metadata": {},
   "outputs": [
    {
     "data": {
      "text/html": [
       "<div>\n",
       "<style>\n",
       "    .dataframe thead tr:only-child th {\n",
       "        text-align: right;\n",
       "    }\n",
       "\n",
       "    .dataframe thead th {\n",
       "        text-align: left;\n",
       "    }\n",
       "\n",
       "    .dataframe tbody tr th {\n",
       "        vertical-align: top;\n",
       "    }\n",
       "</style>\n",
       "<table border=\"1\" class=\"dataframe\">\n",
       "  <thead>\n",
       "    <tr style=\"text-align: right;\">\n",
       "      <th></th>\n",
       "      <th>Primary ISBN10</th>\n",
       "      <th>Primary ISBN13</th>\n",
       "      <th>Title</th>\n",
       "      <th>Author</th>\n",
       "      <th>Rank</th>\n",
       "      <th>Rank Last Week</th>\n",
       "      <th>Weeks on List</th>\n",
       "      <th>Price</th>\n",
       "      <th>Description</th>\n",
       "      <th>Publisher</th>\n",
       "      <th>Book Image</th>\n",
       "    </tr>\n",
       "  </thead>\n",
       "  <tbody>\n",
       "    <tr>\n",
       "      <th>0</th>\n",
       "      <td>1250301696</td>\n",
       "      <td>9781250301697</td>\n",
       "      <td>THE SILENT PATIENT</td>\n",
       "      <td>Alex Michaelides</td>\n",
       "      <td>1</td>\n",
       "      <td>0</td>\n",
       "      <td>1</td>\n",
       "      <td>0</td>\n",
       "      <td>Theo Faber looks into the mystery of a famous ...</td>\n",
       "      <td>Celadon</td>\n",
       "      <td>https://s1.nyt.com/du/books/images/97812503016...</td>\n",
       "    </tr>\n",
       "    <tr>\n",
       "      <th>1</th>\n",
       "      <td>0735219095</td>\n",
       "      <td>9780735219090</td>\n",
       "      <td>WHERE THE CRAWDADS SING</td>\n",
       "      <td>Delia Owens</td>\n",
       "      <td>2</td>\n",
       "      <td>1</td>\n",
       "      <td>23</td>\n",
       "      <td>0</td>\n",
       "      <td>A woman who survived alone in the marsh become...</td>\n",
       "      <td>Putnam</td>\n",
       "      <td>https://s1.nyt.com/du/books/images/97807352190...</td>\n",
       "    </tr>\n",
       "    <tr>\n",
       "      <th>2</th>\n",
       "      <td>1250201578</td>\n",
       "      <td>9781250201577</td>\n",
       "      <td>CONNECTIONS IN DEATH</td>\n",
       "      <td>JD Robb</td>\n",
       "      <td>3</td>\n",
       "      <td>0</td>\n",
       "      <td>1</td>\n",
       "      <td>0</td>\n",
       "      <td>Eve Dallas scours tattoo parlors and strip joi...</td>\n",
       "      <td>St. Martin's</td>\n",
       "      <td>https://s1.nyt.com/du/books/images/97812502015...</td>\n",
       "    </tr>\n",
       "    <tr>\n",
       "      <th>3</th>\n",
       "      <td>0735220174</td>\n",
       "      <td>9780735220171</td>\n",
       "      <td>BLACK LEOPARD, RED WOLF</td>\n",
       "      <td>Marlon James</td>\n",
       "      <td>4</td>\n",
       "      <td>0</td>\n",
       "      <td>1</td>\n",
       "      <td>0</td>\n",
       "      <td>A loner named Tracker teams up with a group of...</td>\n",
       "      <td>Riverhead</td>\n",
       "      <td>https://s1.nyt.com/du/books/images/97807352201...</td>\n",
       "    </tr>\n",
       "    <tr>\n",
       "      <th>4</th>\n",
       "      <td>0399563245</td>\n",
       "      <td>9780399563249</td>\n",
       "      <td>DEVOTIONS</td>\n",
       "      <td>Mary Oliver</td>\n",
       "      <td>5</td>\n",
       "      <td>10</td>\n",
       "      <td>2</td>\n",
       "      <td>0</td>\n",
       "      <td>A collection of more than 200 poems spanning 5...</td>\n",
       "      <td>Penguin Press</td>\n",
       "      <td>https://s1.nyt.com/du/books/images/97803995632...</td>\n",
       "    </tr>\n",
       "    <tr>\n",
       "      <th>5</th>\n",
       "      <td>None</td>\n",
       "      <td>9781250314208</td>\n",
       "      <td>AN ANONYMOUS GIRL</td>\n",
       "      <td>Greer Hendricks and Sarah Pekkanen</td>\n",
       "      <td>6</td>\n",
       "      <td>2</td>\n",
       "      <td>5</td>\n",
       "      <td>0</td>\n",
       "      <td>Jessica Farris’s life unravels when she signs ...</td>\n",
       "      <td>St. Martin's</td>\n",
       "      <td>https://s1.nyt.com/du/books/images/97812501337...</td>\n",
       "    </tr>\n",
       "    <tr>\n",
       "      <th>6</th>\n",
       "      <td>052561849X</td>\n",
       "      <td>9780525618492</td>\n",
       "      <td>THE WEDDING GUEST</td>\n",
       "      <td>Jonathan Kellerman</td>\n",
       "      <td>7</td>\n",
       "      <td>0</td>\n",
       "      <td>1</td>\n",
       "      <td>0</td>\n",
       "      <td>Milo Sturgis and Alex Delaware investigate the...</td>\n",
       "      <td>Ballantine</td>\n",
       "      <td>https://s1.nyt.com/du/books/images/97805256185...</td>\n",
       "    </tr>\n",
       "    <tr>\n",
       "      <th>7</th>\n",
       "      <td>0385544154</td>\n",
       "      <td>9780385544153</td>\n",
       "      <td>THE RECKONING</td>\n",
       "      <td>John Grisham</td>\n",
       "      <td>8</td>\n",
       "      <td>3</td>\n",
       "      <td>16</td>\n",
       "      <td>0</td>\n",
       "      <td>A decorated World War II veteran shoots and ki...</td>\n",
       "      <td>Doubleday</td>\n",
       "      <td>https://s1.nyt.com/du/books/images/97803855441...</td>\n",
       "    </tr>\n",
       "    <tr>\n",
       "      <th>8</th>\n",
       "      <td>152479628X</td>\n",
       "      <td>9781524796280</td>\n",
       "      <td>FIRE AND BLOOD</td>\n",
       "      <td>George RR Martin</td>\n",
       "      <td>9</td>\n",
       "      <td>6</td>\n",
       "      <td>12</td>\n",
       "      <td>0</td>\n",
       "      <td>The first volume of the two-part history of th...</td>\n",
       "      <td>Bantam</td>\n",
       "      <td>https://s1.nyt.com/du/books/images/97815247962...</td>\n",
       "    </tr>\n",
       "    <tr>\n",
       "      <th>9</th>\n",
       "      <td>0316418242</td>\n",
       "      <td>9780316418249</td>\n",
       "      <td>LIAR LIAR</td>\n",
       "      <td>James Patterson and Candice Fox</td>\n",
       "      <td>10</td>\n",
       "      <td>4</td>\n",
       "      <td>4</td>\n",
       "      <td>0</td>\n",
       "      <td>Detective Harriet Blue has become a dangerous ...</td>\n",
       "      <td>Little, Brown</td>\n",
       "      <td>https://s1.nyt.com/du/books/images/97803164182...</td>\n",
       "    </tr>\n",
       "    <tr>\n",
       "      <th>10</th>\n",
       "      <td>1984817434</td>\n",
       "      <td>9781984817433</td>\n",
       "      <td>STRANGER THINGS: SUSPICIOUS MINDS</td>\n",
       "      <td>Gwenda Bond</td>\n",
       "      <td>11</td>\n",
       "      <td>0</td>\n",
       "      <td>1</td>\n",
       "      <td>0</td>\n",
       "      <td>Terry Ives signs up to be a test subject of a ...</td>\n",
       "      <td>Del Rey</td>\n",
       "      <td>https://s1.nyt.com/du/books/images/97819848174...</td>\n",
       "    </tr>\n",
       "    <tr>\n",
       "      <th>11</th>\n",
       "      <td>0062358200</td>\n",
       "      <td>9780062358202</td>\n",
       "      <td>THE LAST ROMANTICS</td>\n",
       "      <td>Tara Conklin</td>\n",
       "      <td>12</td>\n",
       "      <td>0</td>\n",
       "      <td>1</td>\n",
       "      <td>0</td>\n",
       "      <td>A family crisis tests the bonds and ideals of ...</td>\n",
       "      <td>Morrow</td>\n",
       "      <td>https://s1.nyt.com/du/books/images/97800623582...</td>\n",
       "    </tr>\n",
       "    <tr>\n",
       "      <th>12</th>\n",
       "      <td>1250105684</td>\n",
       "      <td>9781250105684</td>\n",
       "      <td>THE LOST MAN</td>\n",
       "      <td>Jane Harper</td>\n",
       "      <td>13</td>\n",
       "      <td>0</td>\n",
       "      <td>1</td>\n",
       "      <td>0</td>\n",
       "      <td>Nathan and Bub Bright find their other brother...</td>\n",
       "      <td>Flatiron</td>\n",
       "      <td>https://s1.nyt.com/du/books/images/97812501056...</td>\n",
       "    </tr>\n",
       "    <tr>\n",
       "      <th>13</th>\n",
       "      <td>0316556343</td>\n",
       "      <td>9780316556347</td>\n",
       "      <td>CIRCE</td>\n",
       "      <td>Madeline Miller</td>\n",
       "      <td>14</td>\n",
       "      <td>7</td>\n",
       "      <td>10</td>\n",
       "      <td>0</td>\n",
       "      <td>Zeus banishes Helios' daughter to an island, w...</td>\n",
       "      <td>Little, Brown</td>\n",
       "      <td>https://s1.nyt.com/du/books/images/97803165563...</td>\n",
       "    </tr>\n",
       "    <tr>\n",
       "      <th>14</th>\n",
       "      <td>1524799017</td>\n",
       "      <td>9781524799014</td>\n",
       "      <td>I OWE YOU ONE</td>\n",
       "      <td>Sophie Kinsella</td>\n",
       "      <td>15</td>\n",
       "      <td>0</td>\n",
       "      <td>1</td>\n",
       "      <td>0</td>\n",
       "      <td>A series of debts between Fixie Farr and a han...</td>\n",
       "      <td>The Dial Press</td>\n",
       "      <td>https://s1.nyt.com/du/books/images/97815247990...</td>\n",
       "    </tr>\n",
       "  </tbody>\n",
       "</table>\n",
       "</div>"
      ],
      "text/plain": [
       "   Primary ISBN10 Primary ISBN13                              Title  \\\n",
       "0      1250301696  9781250301697                 THE SILENT PATIENT   \n",
       "1      0735219095  9780735219090            WHERE THE CRAWDADS SING   \n",
       "2      1250201578  9781250201577               CONNECTIONS IN DEATH   \n",
       "3      0735220174  9780735220171            BLACK LEOPARD, RED WOLF   \n",
       "4      0399563245  9780399563249                          DEVOTIONS   \n",
       "5            None  9781250314208                  AN ANONYMOUS GIRL   \n",
       "6      052561849X  9780525618492                  THE WEDDING GUEST   \n",
       "7      0385544154  9780385544153                      THE RECKONING   \n",
       "8      152479628X  9781524796280                     FIRE AND BLOOD   \n",
       "9      0316418242  9780316418249                          LIAR LIAR   \n",
       "10     1984817434  9781984817433  STRANGER THINGS: SUSPICIOUS MINDS   \n",
       "11     0062358200  9780062358202                 THE LAST ROMANTICS   \n",
       "12     1250105684  9781250105684                       THE LOST MAN   \n",
       "13     0316556343  9780316556347                              CIRCE   \n",
       "14     1524799017  9781524799014                      I OWE YOU ONE   \n",
       "\n",
       "                                Author  Rank  Rank Last Week  Weeks on List  \\\n",
       "0                     Alex Michaelides     1               0              1   \n",
       "1                          Delia Owens     2               1             23   \n",
       "2                              JD Robb     3               0              1   \n",
       "3                         Marlon James     4               0              1   \n",
       "4                          Mary Oliver     5              10              2   \n",
       "5   Greer Hendricks and Sarah Pekkanen     6               2              5   \n",
       "6                   Jonathan Kellerman     7               0              1   \n",
       "7                         John Grisham     8               3             16   \n",
       "8                     George RR Martin     9               6             12   \n",
       "9      James Patterson and Candice Fox    10               4              4   \n",
       "10                         Gwenda Bond    11               0              1   \n",
       "11                        Tara Conklin    12               0              1   \n",
       "12                         Jane Harper    13               0              1   \n",
       "13                     Madeline Miller    14               7             10   \n",
       "14                     Sophie Kinsella    15               0              1   \n",
       "\n",
       "    Price                                        Description       Publisher  \\\n",
       "0       0  Theo Faber looks into the mystery of a famous ...         Celadon   \n",
       "1       0  A woman who survived alone in the marsh become...          Putnam   \n",
       "2       0  Eve Dallas scours tattoo parlors and strip joi...    St. Martin's   \n",
       "3       0  A loner named Tracker teams up with a group of...       Riverhead   \n",
       "4       0  A collection of more than 200 poems spanning 5...   Penguin Press   \n",
       "5       0  Jessica Farris’s life unravels when she signs ...    St. Martin's   \n",
       "6       0  Milo Sturgis and Alex Delaware investigate the...      Ballantine   \n",
       "7       0  A decorated World War II veteran shoots and ki...       Doubleday   \n",
       "8       0  The first volume of the two-part history of th...          Bantam   \n",
       "9       0  Detective Harriet Blue has become a dangerous ...   Little, Brown   \n",
       "10      0  Terry Ives signs up to be a test subject of a ...         Del Rey   \n",
       "11      0  A family crisis tests the bonds and ideals of ...          Morrow   \n",
       "12      0  Nathan and Bub Bright find their other brother...        Flatiron   \n",
       "13      0  Zeus banishes Helios' daughter to an island, w...   Little, Brown   \n",
       "14      0  A series of debts between Fixie Farr and a han...  The Dial Press   \n",
       "\n",
       "                                           Book Image  \n",
       "0   https://s1.nyt.com/du/books/images/97812503016...  \n",
       "1   https://s1.nyt.com/du/books/images/97807352190...  \n",
       "2   https://s1.nyt.com/du/books/images/97812502015...  \n",
       "3   https://s1.nyt.com/du/books/images/97807352201...  \n",
       "4   https://s1.nyt.com/du/books/images/97803995632...  \n",
       "5   https://s1.nyt.com/du/books/images/97812501337...  \n",
       "6   https://s1.nyt.com/du/books/images/97805256185...  \n",
       "7   https://s1.nyt.com/du/books/images/97803855441...  \n",
       "8   https://s1.nyt.com/du/books/images/97815247962...  \n",
       "9   https://s1.nyt.com/du/books/images/97803164182...  \n",
       "10  https://s1.nyt.com/du/books/images/97819848174...  \n",
       "11  https://s1.nyt.com/du/books/images/97800623582...  \n",
       "12  https://s1.nyt.com/du/books/images/97812501056...  \n",
       "13  https://s1.nyt.com/du/books/images/97803165563...  \n",
       "14  https://s1.nyt.com/du/books/images/97815247990...  "
      ]
     },
     "execution_count": 22,
     "metadata": {},
     "output_type": "execute_result"
    }
   ],
   "source": [
    "df = pd.DataFrame(NYTlist, columns=colnames)\n",
    "\n",
    "df.head(15)"
   ]
  },
  {
   "cell_type": "code",
   "execution_count": null,
   "metadata": {
    "collapsed": true
   },
   "outputs": [],
   "source": []
  },
  {
   "cell_type": "code",
   "execution_count": null,
   "metadata": {
    "collapsed": true
   },
   "outputs": [],
   "source": []
  }
 ],
 "metadata": {
  "kernelspec": {
   "display_name": "Python 3",
   "language": "python",
   "name": "python3"
  },
  "language_info": {
   "codemirror_mode": {
    "name": "ipython",
    "version": 3
   },
   "file_extension": ".py",
   "mimetype": "text/x-python",
   "name": "python",
   "nbconvert_exporter": "python",
   "pygments_lexer": "ipython3",
   "version": "3.6.3"
  }
 },
 "nbformat": 4,
 "nbformat_minor": 2
}
